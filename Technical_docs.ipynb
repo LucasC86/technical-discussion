{
  "nbformat": 4,
  "nbformat_minor": 0,
  "metadata": {
    "colab": {
      "provenance": [],
      "authorship_tag": "ABX9TyNUOVh1xZ/EGkFBv0+RO+Sm",
      "include_colab_link": true
    },
    "kernelspec": {
      "name": "python3",
      "display_name": "Python 3"
    },
    "language_info": {
      "name": "python"
    }
  },
  "cells": [
    {
      "cell_type": "markdown",
      "metadata": {
        "id": "view-in-github",
        "colab_type": "text"
      },
      "source": [
        "<a href=\"https://colab.research.google.com/github/LucasC86/technical-discussion/blob/main/Technical_docs.ipynb\" target=\"_parent\"><img src=\"https://colab.research.google.com/assets/colab-badge.svg\" alt=\"Open In Colab\"/></a>"
      ]
    },
    {
      "cell_type": "markdown",
      "source": [
        "## Ingest"
      ],
      "metadata": {
        "id": "3iYVd0zOF2DZ"
      }
    },
    {
      "cell_type": "code",
      "source": [
        "def hello():\n",
        "  return \"hi\"\n",
        "hello()\n"
      ],
      "metadata": {
        "colab": {
          "base_uri": "https://localhost:8080/",
          "height": 36
        },
        "id": "qzw7At6rFeAK",
        "outputId": "271f4e70-3dfa-41e5-fd66-1fcea8bfe60f"
      },
      "execution_count": 2,
      "outputs": [
        {
          "output_type": "execute_result",
          "data": {
            "text/plain": [
              "'hi'"
            ],
            "application/vnd.google.colaboratory.intrinsic+json": {
              "type": "string"
            }
          },
          "metadata": {},
          "execution_count": 2
        }
      ]
    },
    {
      "cell_type": "markdown",
      "source": [
        "## EDA"
      ],
      "metadata": {
        "id": "NGwWQM57F_Gy"
      }
    },
    {
      "cell_type": "markdown",
      "source": [
        "### modeling"
      ],
      "metadata": {
        "id": "BLdPnNUnGB2h"
      }
    },
    {
      "cell_type": "code",
      "source": [],
      "metadata": {
        "id": "YTne8pQsGApA"
      },
      "execution_count": null,
      "outputs": []
    }
  ]
}